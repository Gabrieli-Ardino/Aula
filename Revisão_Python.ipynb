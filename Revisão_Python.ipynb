{
  "nbformat": 4,
  "nbformat_minor": 0,
  "metadata": {
    "colab": {
      "name": "Revisão Python.ipynb",
      "provenance": [],
      "collapsed_sections": [],
      "include_colab_link": true
    },
    "kernelspec": {
      "name": "python3",
      "display_name": "Python 3"
    },
    "language_info": {
      "name": "python"
    }
  },
  "cells": [
    {
      "cell_type": "markdown",
      "metadata": {
        "id": "view-in-github",
        "colab_type": "text"
      },
      "source": [
        "<a href=\"https://colab.research.google.com/github/Gabrieli-Ardino/Aula/blob/main/Revis%C3%A3o_Python.ipynb\" target=\"_parent\"><img src=\"https://colab.research.google.com/assets/colab-badge.svg\" alt=\"Open In Colab\"/></a>"
      ]
    },
    {
      "cell_type": "markdown",
      "source": [
        "2- Ler um valor e escrever se é positivo, negativo ou zero."
      ],
      "metadata": {
        "id": "Qd6WD8sfrsYu"
      }
    },
    {
      "cell_type": "code",
      "execution_count": null,
      "metadata": {
        "id": "ThnxD27kiZcG"
      },
      "outputs": [],
      "source": [
        "valor = int(input(\"DIGITE UM VALOR: \"))\n",
        "if valor > 0:\n",
        "  print(f\"{valor} é positivo\")\n",
        "elif valor == 0: \n",
        "  print(f\"{valor} é neutro\")\n",
        "else:\n",
        "  print(f\"{valor} é negativo\")"
      ]
    },
    {
      "cell_type": "markdown",
      "source": [
        "3 - Ler um valor e escrever a mensagem É MAIOR QUE 10! se o valor lido for maior que 10,\n",
        "caso contrário escrever NÃO É MAIOR QUE 10!"
      ],
      "metadata": {
        "id": "iKe8fi4ZruMe"
      }
    },
    {
      "cell_type": "code",
      "source": [
        "valor = int(input(\"DIgite um VAlOr: \"))\n",
        "if valor > 10:\n",
        "    print(f\"{valor} é maior que 10\")\n",
        "else:\n",
        "    print(f\"{valor} é menor que 10\")"
      ],
      "metadata": {
        "id": "wixCmn7UrzbX"
      },
      "execution_count": null,
      "outputs": []
    },
    {
      "cell_type": "markdown",
      "source": [
        "4 - Calcule a soma de dois números, se o resultado for maior que 10, mostre-o na tela."
      ],
      "metadata": {
        "id": "SFwccwEusmZf"
      }
    },
    {
      "cell_type": "code",
      "source": [
        "n1 = int(input(\"DIgite um numero: \"))\n",
        "n2 = int(input(\"DIgite oto numero: \"))\n",
        "n3 = n2+n1\n",
        "if n3 > 10:\n",
        "  print(f\"{n3} é maior que 10\")\n",
        "else:\n",
        "  print(f\"{n3} não é maior que 10\")"
      ],
      "metadata": {
        "id": "m9q3rz8ksxi8"
      },
      "execution_count": null,
      "outputs": []
    },
    {
      "cell_type": "markdown",
      "source": [
        "5 - Entrar com um número e informar se ele é divisível por 5."
      ],
      "metadata": {
        "id": "FX6FXi0Ttghq"
      }
    },
    {
      "cell_type": "code",
      "source": [
        "n = int(input(\"Digite um numero: \"))\n",
        "if n%5 == 0:\n",
        "  print(f\"é divisivel por 5\")\n",
        "else:\n",
        "  print(f\"Não é divisivel por 5\")"
      ],
      "metadata": {
        "id": "xg64nnj_tx9a"
      },
      "execution_count": null,
      "outputs": []
    },
    {
      "cell_type": "markdown",
      "source": [
        "\n",
        "6 - Construir um algoritmo que indique se o número digitado está entre 20 e 90 ou não."
      ],
      "metadata": {
        "id": "VtD_8Wf1vrdb"
      }
    },
    {
      "cell_type": "code",
      "source": [
        "n = int(input(\"Digite um valor: \"))\n",
        "if n < 90 and n > 20:\n",
        "  print(f\"{n} está entre 20 e 90.\")\n",
        "else:\n",
        "  print(f\"{n} não está entre 20 e 90.\")"
      ],
      "metadata": {
        "id": "JaHO2ci9v-ns"
      },
      "execution_count": null,
      "outputs": []
    },
    {
      "cell_type": "markdown",
      "source": [
        "7 - Ler o ano atual e o ano de nascimento de uma pessoa. Escrever uma mensagem que\n",
        "diga se ela poderá ou não votar este ano (não é necessário considerar o mês em que a\n",
        "pessoa nasceu)."
      ],
      "metadata": {
        "id": "J4bfNaNyxI-9"
      }
    },
    {
      "cell_type": "code",
      "source": [
        "n1 = int(input(\"Digite o ano do seu nascimento: \"))\n",
        "n2 = 2022 - n1\n",
        "if n2 >= 16:\n",
        "  print(f\"{n2} anos ja pode votar feio\")\n",
        "else:\n",
        "  print(f'{n2} anos cara, tu sabe que não dá')"
      ],
      "metadata": {
        "id": "V-4IbxiIxWQd"
      },
      "execution_count": null,
      "outputs": []
    },
    {
      "cell_type": "markdown",
      "source": [
        "8 - Entrar com o ano de nascimento de uma pessoa e imprimir a idade dela. Verificar se o\n",
        "ano digitado é válido."
      ],
      "metadata": {
        "id": "nsJzTfmu0MLw"
      }
    },
    {
      "cell_type": "code",
      "source": [
        "data = int(input('Qual o ano de nascimento: '))\n",
        "idade = 2022 - data\n",
        "if data > 1900:\n",
        "   print('A data {} é valida'.format(data))\n",
        "else:\n",
        "   print('Tais mentindo cara, a data {} é invalida'.format(data))"
      ],
      "metadata": {
        "id": "0yXA3g5G0R_0"
      },
      "execution_count": null,
      "outputs": []
    },
    {
      "cell_type": "markdown",
      "source": [
        "9 - Entrar com a idade de uma pessoa e exibir a mensagem; Maior de idade, menor de\n",
        "idade ou acima de 65 anos."
      ],
      "metadata": {
        "id": "Yz5Xiyz_D-Js"
      }
    },
    {
      "cell_type": "code",
      "source": [
        "idade = int(input(\"Digite sua idade: \"))\n",
        "if idade >= 65:\n",
        "  print(\"Sua idade está acima de 65 anos, você já pode apelar para fila preferencial.\")\n",
        "elif idade >= 18:\n",
        "  print(\"Parábens, você é maior de idade e pode ser preso.\")\n",
        "else:\n",
        "  print(\"kkkk pirralho.\")"
      ],
      "metadata": {
        "id": "P33ObKumEC23",
        "colab": {
          "base_uri": "https://localhost:8080/"
        },
        "outputId": "4f3491b5-ce81-4184-a03e-60435e26ddf0"
      },
      "execution_count": null,
      "outputs": [
        {
          "output_type": "stream",
          "name": "stdout",
          "text": [
            "Digite sua idade: 30\n",
            "Parábens, você é maior de idade e pode ser preso.\n"
          ]
        }
      ]
    },
    {
      "cell_type": "markdown",
      "source": [
        "10 - Ler as notas da 1a\n",
        ". e 2a\n",
        ". avaliações de um aluno. Calcular a média aritmética simples e\n",
        "escrever uma mensagem que diga se o aluno foi ou não aprovado (considerar que se a\n",
        "nota for igual ou maior que 6 o aluno é aprovado). Escrever também a média\n",
        "calculada."
      ],
      "metadata": {
        "id": "6DssMTwfFHp-"
      }
    },
    {
      "cell_type": "code",
      "source": [
        "n1 = float(input(\"Digite a nota da primeira avaliação: \"))\n",
        "n2 = float(input(\"Digite a nota da segunda avaliação: \"))\n",
        "ma = (n1+n2) / 2\n",
        "if ma >= 6:\n",
        "  print(f\"Você está acima da média com seu humilde {ma}, parabéns pela dedicação\")\n",
        "else:\n",
        "  print(f\"Com esse {ma} tu vai acabar rodando filhão\")"
      ],
      "metadata": {
        "id": "3ceRIjamFLZe"
      },
      "execution_count": null,
      "outputs": []
    },
    {
      "cell_type": "markdown",
      "source": [
        "11 - Escrever um algoritmo para ler duas notas de um aluno e escrever na tela a palavra\n",
        "“Aprovado” se a média das duas notas for maior ou igual a 7,0. Caso a média seja\n",
        "inferior a 7,0, o programa deve ler a nota do exame e calcular a média final. Se esta\n",
        "média for maior ou igual a 5,0, o programa deve escrever “Aprovado”, caso contrário\n",
        "deve escrever “Reprovado”."
      ],
      "metadata": {
        "id": "16iea9CcLQa9"
      }
    },
    {
      "cell_type": "code",
      "source": [
        "n1 = float(input(\"Digite sua primeira nota: \"))\n",
        "n2 = float(input(\"Digite sua segunda nota: \"))\n",
        "m = (n1+n2) / 2\n",
        "if m >= 7:\n",
        "  print(\"Aprovado\")\n",
        "else:\n",
        "  n3 = float(input(\"você ficou de recuperação, digite sua nota da recuperação: \"))\n",
        "  mr = (m+n3) / 2\n",
        "  if mr >= 5:\n",
        "    print(\"Aprovado\")\n",
        "  else:\n",
        "    print(\"Reprovado\")\n"
      ],
      "metadata": {
        "id": "3rj-g3E2Le6_"
      },
      "execution_count": null,
      "outputs": []
    },
    {
      "cell_type": "markdown",
      "source": [
        "12 - Escrever um algoritmo para ler a quantidade de horas aula dadas por dois professores\n",
        "e o valor por hora recebido por cada um. Mostrar na tela qual dos professores tem\n",
        "salário total maior."
      ],
      "metadata": {
        "id": "ZSk1S9w8WN9e"
      }
    },
    {
      "cell_type": "code",
      "source": [
        "professor1 = float(input(\"Digite quantas horas aula você deu: \"))\n",
        "horas1 = float(input( \"Digite quantos você recebe por hora aula dada: \"))\n",
        "professor2 = float(input( \"Digite quantas horas aula você deu: \"))\n",
        "horas2 = float(input(\"Digite quantos você recebe por hora aula dada: \"))\n",
        "Salário1 = professor1*horas1\n",
        "Salário2 = professor2*horas2\n",
        "if Salário1 > Salário2: \n",
        "  print(\"Professor 1 recebe mais\")\n",
        "\n",
        "else: \n",
        "  print(\"HAHA POBRE PROFESSOR 1\")\n"
      ],
      "metadata": {
        "colab": {
          "base_uri": "https://localhost:8080/"
        },
        "id": "mn9OQWSPsvma",
        "outputId": "f1fed18b-c1c7-4a24-f67d-397b081c5e89"
      },
      "execution_count": null,
      "outputs": [
        {
          "output_type": "stream",
          "name": "stdout",
          "text": [
            "Digite quantas horas aula você deu45\n",
            "Digite quantos você recebe por hora aula dada7\n",
            "Digite quantas horas aula você deu30\n",
            "Digite quantos você recebe por hora aula dada 25\n",
            "HAHA POBRE PROFESSOR 1\n"
          ]
        }
      ]
    },
    {
      "cell_type": "markdown",
      "source": [
        "13 - Faça um algoritmo que leia um número inteiro e mostre uma mensagem indicando se\n",
        "este número é par ou ímpar."
      ],
      "metadata": {
        "id": "pqhyjPrPuVrj"
      }
    },
    {
      "cell_type": "code",
      "source": [
        "n = int(input(\"Digite um numero: \"))\n",
        "if n%2 == 0:\n",
        "  print(f\"Par\")\n",
        "else:\n",
        "  print(f\"Impar\")"
      ],
      "metadata": {
        "colab": {
          "base_uri": "https://localhost:8080/"
        },
        "id": "HktA8KgHuafa",
        "outputId": "2a8e5c5c-7388-4014-c7d4-b5acceed30b5"
      },
      "execution_count": null,
      "outputs": [
        {
          "output_type": "stream",
          "name": "stdout",
          "text": [
            "Digite um numero: 546543546546541\n",
            "Impar\n"
          ]
        }
      ]
    },
    {
      "cell_type": "markdown",
      "source": [
        "14 - Ler o nome de 2 times e o número de gols marcados na partida. Escrever o nome do\n",
        "vencedor. Caso não haja vencedor deverá ser impressa a palavra EMPATE.\n"
      ],
      "metadata": {
        "id": "pkUbY1dUyFPM"
      }
    },
    {
      "cell_type": "code",
      "source": [
        "nome1 = input(\"Digite o nome do seu time: \")\n",
        "nome2 = input( \" Nome do time adversário: \")\n",
        "time1 = int(input(\" Quantos gols seu time fez: \"))\n",
        "time2 = int(input(\" Quantos gols o time adversário fez: \"))\n",
        "\n",
        "if time1 == time2:\n",
        "  print(\"Empate\")\n",
        "else:\n",
        "  if time1 > time2:\n",
        "    print(f\" {nome1} ganhou! \")\n",
        "  else: \n",
        "    print(f\"{nome2} ganhou! \")\n"
      ],
      "metadata": {
        "colab": {
          "base_uri": "https://localhost:8080/"
        },
        "id": "9j8bcCHtyGUh",
        "outputId": "2338ce9c-f3d0-4ce0-b158-586ab8422ce6"
      },
      "execution_count": null,
      "outputs": [
        {
          "output_type": "stream",
          "name": "stdout",
          "text": [
            "Digite o nome do seu time: gabina\n",
            " Nome do time adversário: jao\n",
            " Quantos gols seu time fez: 3\n",
            " Quantos gols o time adversário fez: 2\n",
            " gabina ganhou! \n"
          ]
        }
      ]
    },
    {
      "cell_type": "markdown",
      "source": [
        "15 - Entrar com a sigla do estado de uma pessoa e imprimir uma das mensagens: “Carioca,\n",
        "Paulista, Mineiro ou Outros”"
      ],
      "metadata": {
        "id": "948E_t3b1WYh"
      }
    },
    {
      "cell_type": "code",
      "source": [
        "Estado = input(\"Digite a sigla do seu estado: \")\n",
        "Estado2 = Estado.upper()\n",
        "\n",
        "if Estado2 == \"RJ\":\n",
        " print(\"Carioca\")\n",
        "\n",
        "if Estado2 == \"SP\":\n",
        "    print(\"Paulista fei\")\n",
        "\n",
        "if Estado2 == \"MG\":\n",
        "  print(\"Mineiro uai\")\n",
        "\n",
        "if Estado2 != \"RJ\" and Estado2 != \"SP\" and Estado2 != \"MG\":\n",
        "  print(\"Outros\")\n",
        "\n",
        "\n"
      ],
      "metadata": {
        "colab": {
          "base_uri": "https://localhost:8080/"
        },
        "id": "D0EmBggM1gVo",
        "outputId": "7e467f9b-5fbd-422e-ded8-45974388dc4d"
      },
      "execution_count": null,
      "outputs": [
        {
          "output_type": "stream",
          "name": "stdout",
          "text": [
            "Digite a sigla do seu estado: sp\n",
            "Paulista fei\n"
          ]
        }
      ]
    }
  ]
}